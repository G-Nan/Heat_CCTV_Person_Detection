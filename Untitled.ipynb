{
 "cells": [
  {
   "cell_type": "code",
   "execution_count": 1,
   "id": "cc6e85ec",
   "metadata": {
    "ExecuteTime": {
     "end_time": "2024-05-24T05:12:44.132601Z",
     "start_time": "2024-05-24T05:12:39.240362Z"
    },
    "scrolled": true
   },
   "outputs": [],
   "source": [
    "import os\n",
    "import cv2\n",
    "from ultralyticsplus import YOLO, render_result\n",
    "from flask import Flask, Response, render_template, request, redirect, url_for\n",
    "\n",
    "# load model\n",
    "model = YOLO('foduucom/thermal-image-object-detection')\n",
    "\n",
    "# set model parameters\n",
    "model.overrides['conf'] = 0.25  # NMS confidence threshold\n",
    "model.overrides['iou'] = 0.45  # NMS IoU threshold\n",
    "model.overrides['agnostic_nms'] = False  # NMS class-agnostic\n",
    "model.overrides['max_det'] = 1000  # maximum number of detections per image\n",
    "\n",
    "app = Flask(__name__)\n",
    "\n",
    "# 일반 CCTV 영상 파일 경로\n",
    "video1_path = 'video/CCTV_Detection_Real.mp4'\n",
    "# 적외선 CCTV 영상 파일 경로\n",
    "video2_path = 'video/CCTV_Detection_Thermal.mp4'\n",
    "\n",
    "def detect_objects(frame):\n",
    "    results = model(frame)\n",
    "    return results\n",
    "\n",
    "def draw_boxes(frame, results):\n",
    "    for result in results:\n",
    "        boxes = result.boxes\n",
    "        for box in boxes:\n",
    "            x1, y1, x2, y2 = map(int, box.xyxy[0])\n",
    "            conf = box.conf[0]\n",
    "            cls = int(box.cls[0])\n",
    "            if cls in model.names:\n",
    "                label = model.names[cls]\n",
    "            else:\n",
    "                label = f'Unknown {cls}'\n",
    "            cv2.rectangle(frame, (x1, y1), (x2, y2), (0, 255, 0), 2)\n",
    "            cv2.putText(frame, f'{label} {conf:.2f}', (x1, y1 - 10), cv2.FONT_HERSHEY_SIMPLEX, 0.5, (0, 255, 0), 2)\n",
    "    return frame\n",
    "\n",
    "def generate_frames(video_path):\n",
    "    cap = cv2.VideoCapture(video_path)\n",
    "    while True:\n",
    "        if not cap.isOpened():\n",
    "            cap = cv2.VideoCapture(video_path)\n",
    "        \n",
    "        ret, frame = cap.read()\n",
    "        if not ret:\n",
    "            cap.release()\n",
    "            cap = cv2.VideoCapture(video_path)\n",
    "            continue\n",
    "\n",
    "        results = detect_objects(frame)\n",
    "        frame = draw_boxes(frame, results)\n",
    "        \n",
    "        ret, buffer = cv2.imencode('.jpg', frame)\n",
    "        frame = buffer.tobytes()\n",
    "\n",
    "        yield (b'--frame\\r\\n'\n",
    "               b'Content-Type: image/jpeg\\r\\n\\r\\n' + frame + b'\\r\\n')\n",
    "\n",
    "@app.route('/')\n",
    "def index():\n",
    "    return render_template('index.html')\n",
    "\n",
    "@app.route('/video_feed1')\n",
    "def video_feed1():\n",
    "    return Response(generate_frames(video1_path), mimetype='multipart/x-mixed-replace; boundary=frame')\n",
    "\n",
    "@app.route('/video_feed2')\n",
    "def video_feed2():\n",
    "    return Response(generate_frames(video2_path), mimetype='multipart/x-mixed-replace; boundary=frame')\n",
    "\n",
    "# if __name__ == '__main__':\n",
    "#     app.run(host='0.0.0.0', port=5000)\n"
   ]
  },
  {
   "cell_type": "code",
   "execution_count": 4,
   "id": "40348aa2",
   "metadata": {
    "ExecuteTime": {
     "end_time": "2024-05-24T05:13:00.008143Z",
     "start_time": "2024-05-24T05:12:59.993093Z"
    }
   },
   "outputs": [
    {
     "data": {
      "text/plain": [
       "{0: 'empty',\n",
       " 1: 'person',\n",
       " 2: 'bicycle',\n",
       " 3: 'car',\n",
       " 4: 'motorcycle',\n",
       " 5: 'airplane',\n",
       " 6: 'bus',\n",
       " 7: 'train',\n",
       " 8: 'truck',\n",
       " 9: 'boat',\n",
       " 10: 'traffic light',\n",
       " 11: 'fire hydrant',\n",
       " 12: 'stop sign',\n",
       " 13: 'parking meter'}"
      ]
     },
     "execution_count": 4,
     "metadata": {},
     "output_type": "execute_result"
    }
   ],
   "source": [
    "model.names"
   ]
  },
  {
   "cell_type": "code",
   "execution_count": null,
   "id": "5ee35b25",
   "metadata": {},
   "outputs": [],
   "source": []
  }
 ],
 "metadata": {
  "kernelspec": {
   "display_name": "Gnan",
   "language": "python",
   "name": "gnan"
  },
  "language_info": {
   "codemirror_mode": {
    "name": "ipython",
    "version": 3
   },
   "file_extension": ".py",
   "mimetype": "text/x-python",
   "name": "python",
   "nbconvert_exporter": "python",
   "pygments_lexer": "ipython3",
   "version": "3.10.9"
  },
  "toc": {
   "base_numbering": 1,
   "nav_menu": {},
   "number_sections": true,
   "sideBar": true,
   "skip_h1_title": false,
   "title_cell": "Table of Contents",
   "title_sidebar": "Contents",
   "toc_cell": false,
   "toc_position": {},
   "toc_section_display": true,
   "toc_window_display": false
  }
 },
 "nbformat": 4,
 "nbformat_minor": 5
}
