{
 "cells": [
  {
   "cell_type": "code",
   "execution_count": 16,
   "id": "2d2e1ef9",
   "metadata": {
    "ExecuteTime": {
     "end_time": "2024-06-07T05:12:58.874606Z",
     "start_time": "2024-06-07T05:12:58.865632Z"
    }
   },
   "outputs": [],
   "source": [
    "import pandas as pd\n",
    "import seaborn as sns\n",
    "import matplotlib.pyplot as plt\n",
    "\n",
    "sns.set_style('whitegrid')\n",
    "colors = sns.color_palette(\"pastel\")\n",
    "plt.rcParams['font.family'] = 'Malgun Gothic'\n",
    "plt.rcParams['axes.unicode_minus'] = False"
   ]
  },
  {
   "cell_type": "code",
   "execution_count": 17,
   "id": "c56fbfd0",
   "metadata": {
    "ExecuteTime": {
     "end_time": "2024-06-07T05:12:59.690534Z",
     "start_time": "2024-06-07T05:12:59.663606Z"
    }
   },
   "outputs": [
    {
     "data": {
      "text/html": [
       "<div>\n",
       "<style scoped>\n",
       "    .dataframe tbody tr th:only-of-type {\n",
       "        vertical-align: middle;\n",
       "    }\n",
       "\n",
       "    .dataframe tbody tr th {\n",
       "        vertical-align: top;\n",
       "    }\n",
       "\n",
       "    .dataframe thead th {\n",
       "        text-align: right;\n",
       "    }\n",
       "</style>\n",
       "<table border=\"1\" class=\"dataframe\">\n",
       "  <thead>\n",
       "    <tr style=\"text-align: right;\">\n",
       "      <th></th>\n",
       "      <th>연도</th>\n",
       "      <th>현역(징집)병 입영인원</th>\n",
       "      <th>모집병 입영인원</th>\n",
       "    </tr>\n",
       "  </thead>\n",
       "  <tbody>\n",
       "    <tr>\n",
       "      <th>0</th>\n",
       "      <td>1998</td>\n",
       "      <td>220730</td>\n",
       "      <td>0</td>\n",
       "    </tr>\n",
       "    <tr>\n",
       "      <th>1</th>\n",
       "      <td>1999</td>\n",
       "      <td>228014</td>\n",
       "      <td>0</td>\n",
       "    </tr>\n",
       "    <tr>\n",
       "      <th>2</th>\n",
       "      <td>2000</td>\n",
       "      <td>208828</td>\n",
       "      <td>0</td>\n",
       "    </tr>\n",
       "    <tr>\n",
       "      <th>3</th>\n",
       "      <td>2001</td>\n",
       "      <td>225500</td>\n",
       "      <td>0</td>\n",
       "    </tr>\n",
       "    <tr>\n",
       "      <th>4</th>\n",
       "      <td>2002</td>\n",
       "      <td>218304</td>\n",
       "      <td>0</td>\n",
       "    </tr>\n",
       "    <tr>\n",
       "      <th>5</th>\n",
       "      <td>2003</td>\n",
       "      <td>182534</td>\n",
       "      <td>46251</td>\n",
       "    </tr>\n",
       "    <tr>\n",
       "      <th>6</th>\n",
       "      <td>2004</td>\n",
       "      <td>175905</td>\n",
       "      <td>69279</td>\n",
       "    </tr>\n",
       "    <tr>\n",
       "      <th>7</th>\n",
       "      <td>2005</td>\n",
       "      <td>158621</td>\n",
       "      <td>75446</td>\n",
       "    </tr>\n",
       "    <tr>\n",
       "      <th>8</th>\n",
       "      <td>2006</td>\n",
       "      <td>146083</td>\n",
       "      <td>71082</td>\n",
       "    </tr>\n",
       "    <tr>\n",
       "      <th>9</th>\n",
       "      <td>2007</td>\n",
       "      <td>145476</td>\n",
       "      <td>77170</td>\n",
       "    </tr>\n",
       "    <tr>\n",
       "      <th>10</th>\n",
       "      <td>2008</td>\n",
       "      <td>132484</td>\n",
       "      <td>89945</td>\n",
       "    </tr>\n",
       "    <tr>\n",
       "      <th>11</th>\n",
       "      <td>2009</td>\n",
       "      <td>134643</td>\n",
       "      <td>123257</td>\n",
       "    </tr>\n",
       "    <tr>\n",
       "      <th>12</th>\n",
       "      <td>2010</td>\n",
       "      <td>147695</td>\n",
       "      <td>121069</td>\n",
       "    </tr>\n",
       "    <tr>\n",
       "      <th>13</th>\n",
       "      <td>2011</td>\n",
       "      <td>150827</td>\n",
       "      <td>131142</td>\n",
       "    </tr>\n",
       "    <tr>\n",
       "      <th>14</th>\n",
       "      <td>2012</td>\n",
       "      <td>139842</td>\n",
       "      <td>134482</td>\n",
       "    </tr>\n",
       "    <tr>\n",
       "      <th>15</th>\n",
       "      <td>2013</td>\n",
       "      <td>125536</td>\n",
       "      <td>130635</td>\n",
       "    </tr>\n",
       "    <tr>\n",
       "      <th>16</th>\n",
       "      <td>2014</td>\n",
       "      <td>137643</td>\n",
       "      <td>136649</td>\n",
       "    </tr>\n",
       "    <tr>\n",
       "      <th>17</th>\n",
       "      <td>2015</td>\n",
       "      <td>111971</td>\n",
       "      <td>137506</td>\n",
       "    </tr>\n",
       "    <tr>\n",
       "      <th>18</th>\n",
       "      <td>2016</td>\n",
       "      <td>120395</td>\n",
       "      <td>140808</td>\n",
       "    </tr>\n",
       "    <tr>\n",
       "      <th>19</th>\n",
       "      <td>2017</td>\n",
       "      <td>109458</td>\n",
       "      <td>117657</td>\n",
       "    </tr>\n",
       "    <tr>\n",
       "      <th>20</th>\n",
       "      <td>2018</td>\n",
       "      <td>101733</td>\n",
       "      <td>120784</td>\n",
       "    </tr>\n",
       "    <tr>\n",
       "      <th>21</th>\n",
       "      <td>2019</td>\n",
       "      <td>107269</td>\n",
       "      <td>116793</td>\n",
       "    </tr>\n",
       "    <tr>\n",
       "      <th>22</th>\n",
       "      <td>2020</td>\n",
       "      <td>109371</td>\n",
       "      <td>126775</td>\n",
       "    </tr>\n",
       "    <tr>\n",
       "      <th>23</th>\n",
       "      <td>2021</td>\n",
       "      <td>97649</td>\n",
       "      <td>118105</td>\n",
       "    </tr>\n",
       "    <tr>\n",
       "      <th>24</th>\n",
       "      <td>2022</td>\n",
       "      <td>90358</td>\n",
       "      <td>95843</td>\n",
       "    </tr>\n",
       "  </tbody>\n",
       "</table>\n",
       "</div>"
      ],
      "text/plain": [
       "      연도  현역(징집)병 입영인원  모집병 입영인원\n",
       "0   1998        220730         0\n",
       "1   1999        228014         0\n",
       "2   2000        208828         0\n",
       "3   2001        225500         0\n",
       "4   2002        218304         0\n",
       "5   2003        182534     46251\n",
       "6   2004        175905     69279\n",
       "7   2005        158621     75446\n",
       "8   2006        146083     71082\n",
       "9   2007        145476     77170\n",
       "10  2008        132484     89945\n",
       "11  2009        134643    123257\n",
       "12  2010        147695    121069\n",
       "13  2011        150827    131142\n",
       "14  2012        139842    134482\n",
       "15  2013        125536    130635\n",
       "16  2014        137643    136649\n",
       "17  2015        111971    137506\n",
       "18  2016        120395    140808\n",
       "19  2017        109458    117657\n",
       "20  2018        101733    120784\n",
       "21  2019        107269    116793\n",
       "22  2020        109371    126775\n",
       "23  2021         97649    118105\n",
       "24  2022         90358     95843"
      ]
     },
     "execution_count": 17,
     "metadata": {},
     "output_type": "execute_result"
    }
   ],
   "source": [
    "df = pd.read_csv('Dataset/현역병_입영현황/병무청_현역병(징집병_모집병) 입영현황_20221231.csv', encoding = 'CP949')\n",
    "df"
   ]
  },
  {
   "cell_type": "code",
   "execution_count": 18,
   "id": "1349bb34",
   "metadata": {
    "ExecuteTime": {
     "end_time": "2024-06-07T05:12:59.944853Z",
     "start_time": "2024-06-07T05:12:59.929894Z"
    }
   },
   "outputs": [
    {
     "data": {
      "text/plain": [
       "Index(['연도', '현역(징집)병 입영인원', '모집병 입영인원'], dtype='object')"
      ]
     },
     "execution_count": 18,
     "metadata": {},
     "output_type": "execute_result"
    }
   ],
   "source": [
    "df.columns"
   ]
  },
  {
   "cell_type": "code",
   "execution_count": 24,
   "id": "4c5dc8c3",
   "metadata": {
    "ExecuteTime": {
     "end_time": "2024-06-07T05:14:06.941341Z",
     "start_time": "2024-06-07T05:14:06.931367Z"
    }
   },
   "outputs": [
    {
     "data": {
      "text/plain": [
       "연도              int64\n",
       "현역(징집)병 입영인원    int64\n",
       "모집병 입영인원        int64\n",
       "dtype: object"
      ]
     },
     "execution_count": 24,
     "metadata": {},
     "output_type": "execute_result"
    }
   ],
   "source": [
    "df.dtypes"
   ]
  },
  {
   "cell_type": "code",
   "execution_count": 35,
   "id": "faf30acf",
   "metadata": {
    "ExecuteTime": {
     "end_time": "2024-06-07T05:17:30.082096Z",
     "start_time": "2024-06-07T05:17:29.804391Z"
    }
   },
   "outputs": [
    {
     "data": {
      "image/png": "[encoded data removed]",
      "text/plain": [
       "<Figure size 640x480 with 1 Axes>"
      ]
     },
     "metadata": {},
     "output_type": "display_data"
    }
   ],
   "source": [
    "sns.lineplot(x = df['연도'], y = df['현역(징집)병 입영인원'], color = colors[3], label = '현역병 입영인원')\n",
    "sns.lineplot(x = df['연도'], y = df['모집병 입영인원'], color = colors[0], label = '모집병 입영인원')\n",
    "plt.legend()\n",
    "plt.xlabel('연도')\n",
    "plt.ylabel('입영 인원')\n",
    "plt.title('연도별 현역병/모집병 입영인원', fontsize = 15)\n",
    "plt.show()"
   ]
  },
  {
   "cell_type": "code",
   "execution_count": null,
   "id": "3da60625",
   "metadata": {},
   "outputs": [],
   "source": []
  }
 ],
 "metadata": {
  "kernelspec": {
   "display_name": "Gnan",
   "language": "python",
   "name": "gnan"
  },
  "language_info": {
   "codemirror_mode": {
    "name": "ipython",
    "version": 3
   },
   "file_extension": ".py",
   "mimetype": "text/x-python",
   "name": "python",
   "nbconvert_exporter": "python",
   "pygments_lexer": "ipython3",
   "version": "3.10.9"
  },
  "toc": {
   "base_numbering": 1,
   "nav_menu": {},
   "number_sections": true,
   "sideBar": true,
   "skip_h1_title": false,
   "title_cell": "Table of Contents",
   "title_sidebar": "Contents",
   "toc_cell": false,
   "toc_position": {},
   "toc_section_display": true,
   "toc_window_display": false
  }
 },
 "nbformat": 4,
 "nbformat_minor": 5
}
