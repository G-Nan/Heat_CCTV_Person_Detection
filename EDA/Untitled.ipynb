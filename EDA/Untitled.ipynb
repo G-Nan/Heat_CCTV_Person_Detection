{
 "cells": [
  {
   "cell_type": "code",
   "execution_count": 49,
   "id": "94809d94",
   "metadata": {
    "ExecuteTime": {
     "end_time": "2024-06-07T05:29:01.322642Z",
     "start_time": "2024-06-07T05:29:01.304691Z"
    }
   },
   "outputs": [],
   "source": [
    "import os\n",
    "import pandas as pd\n",
    "import numpy as np\n",
    "import seaborn as sns\n",
    "import matplotlib.pyplot as plt\n",
    "\n",
    "sns.set_style('whitegrid')\n",
    "colors = sns.color_palette(\"pastel\")\n",
    "plt.rcParams['font.family'] = 'Malgun Gothic'\n",
    "plt.rcParams['axes.unicode_minus'] = False"
   ]
  },
  {
   "cell_type": "code",
   "execution_count": 39,
   "id": "1396a82f",
   "metadata": {
    "ExecuteTime": {
     "end_time": "2024-06-07T05:27:54.396442Z",
     "start_time": "2024-06-07T05:27:54.377493Z"
    },
    "scrolled": false
   },
   "outputs": [
    {
     "name": "stdout",
     "output_type": "stream",
     "text": [
      "      구 분     지 원    선 발  선발취소  연기     입영   귀가    실입영    연도  종류\n",
      "0     서 울  10,463  3,968    95  54  3,819  199  3,620  2017  공군\n",
      "1     부 산   5,111  1,678    28  17  1,633   91  1,542  2017  공군\n",
      "2   대구ㆍ경북   7,184  2,335    38  32  2,265  113  2,152  2017  공군\n",
      "3     경 인   7,760  2,611    65  47  2,499  124  2,375  2017  공군\n",
      "4   광주ㆍ전남   4,365  1,721    30  15  1,676   94  1,582  2017  공군\n",
      "5   대전ㆍ충남   3,903  1,392    34  25  1,333   85  1,248  2017  공군\n",
      "6     강 원     617    222     7   2    213   21    192  2017  공군\n",
      "7     충 북   2,011    705     3  10    692   42    650  2017  공군\n",
      "8     전 북   2,255    828    21  18    789   37    752  2017  공군\n",
      "9     경 남   4,801  1,353    17  10  1,326   64  1,262  2017  공군\n",
      "10    제 주     295    105     2   1    102   12     90  2017  공군\n",
      "11    인 천   5,200  1,677    27  23  1,627   82  1,545  2017  공군\n",
      "12   경기북부   2,682    909    23   9    877   48    829  2017  공군\n",
      "13   강원영동     360    109     3   1    105    5    100  2017  공군\n"
     ]
    }
   ],
   "source": [
    "list_df = []\n",
    "\n",
    "list_name = os.listdir('Dataset/현역병_모집실적')\n",
    "for name in list_name[:1]:\n",
    "    year = name.split('(')[1][:4]\n",
    "    mil_type = name.split(' ')[0][:-1]\n",
    "    \n",
    "    path = f'Dataset/현역병_모집실적/{name}'\n",
    "    df = pd.read_csv(path, encoding = 'cp949')\n",
    "    df['연도'] = year\n",
    "    df['종류'] = mil_type\n",
    "    list_df.append(df)\n",
    "    print(df)"
   ]
  },
  {
   "cell_type": "code",
   "execution_count": null,
   "id": "aa932a03",
   "metadata": {},
   "outputs": [],
   "source": []
  }
 ],
 "metadata": {
  "kernelspec": {
   "display_name": "Gnan",
   "language": "python",
   "name": "gnan"
  },
  "language_info": {
   "codemirror_mode": {
    "name": "ipython",
    "version": 3
   },
   "file_extension": ".py",
   "mimetype": "text/x-python",
   "name": "python",
   "nbconvert_exporter": "python",
   "pygments_lexer": "ipython3",
   "version": "3.10.9"
  },
  "toc": {
   "base_numbering": 1,
   "nav_menu": {},
   "number_sections": true,
   "sideBar": true,
   "skip_h1_title": false,
   "title_cell": "Table of Contents",
   "title_sidebar": "Contents",
   "toc_cell": false,
   "toc_position": {},
   "toc_section_display": true,
   "toc_window_display": false
  }
 },
 "nbformat": 4,
 "nbformat_minor": 5
}
