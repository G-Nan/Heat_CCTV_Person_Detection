{
 "cells": [
  {
   "cell_type": "code",
   "execution_count": 2,
   "id": "a6306449",
   "metadata": {
    "ExecuteTime": {
     "end_time": "2024-06-09T23:55:31.951762Z",
     "start_time": "2024-06-09T23:55:30.214983Z"
    }
   },
   "outputs": [],
   "source": [
    "import os\n",
    "import pandas as pd\n",
    "import numpy as np\n",
    "import seaborn as sns\n",
    "import matplotlib.pyplot as plt\n",
    "\n",
    "sns.set_style('whitegrid')\n",
    "colors = sns.color_palette(\"pastel\")\n",
    "plt.rcParams['font.family'] = 'Malgun Gothic'\n",
    "plt.rcParams['axes.unicode_minus'] = False"
   ]
  },
  {
   "cell_type": "code",
   "execution_count": 3,
   "id": "8aed1f92",
   "metadata": {
    "ExecuteTime": {
     "end_time": "2024-06-09T23:55:31.981687Z",
     "start_time": "2024-06-09T23:55:31.953745Z"
    }
   },
   "outputs": [],
   "source": [
    "df = pd.read_csv('Dataset/API_MS.MIL.TOTL.P1_DS2_en_csv_v2_47122.csv', skiprows = 3)"
   ]
  },
  {
   "cell_type": "code",
   "execution_count": 4,
   "id": "b7b24b84",
   "metadata": {
    "ExecuteTime": {
     "end_time": "2024-06-09T23:55:32.071415Z",
     "start_time": "2024-06-09T23:55:31.983650Z"
    }
   },
   "outputs": [
    {
     "data": {
      "text/html": [
       "<div>\n",
       "<style scoped>\n",
       "    .dataframe tbody tr th:only-of-type {\n",
       "        vertical-align: middle;\n",
       "    }\n",
       "\n",
       "    .dataframe tbody tr th {\n",
       "        vertical-align: top;\n",
       "    }\n",
       "\n",
       "    .dataframe thead th {\n",
       "        text-align: right;\n",
       "    }\n",
       "</style>\n",
       "<table border=\"1\" class=\"dataframe\">\n",
       "  <thead>\n",
       "    <tr style=\"text-align: right;\">\n",
       "      <th></th>\n",
       "      <th>Country Name</th>\n",
       "      <th>Country Code</th>\n",
       "      <th>Indicator Name</th>\n",
       "      <th>Indicator Code</th>\n",
       "      <th>1960</th>\n",
       "      <th>1961</th>\n",
       "      <th>1962</th>\n",
       "      <th>1963</th>\n",
       "      <th>1964</th>\n",
       "      <th>1965</th>\n",
       "      <th>...</th>\n",
       "      <th>2015</th>\n",
       "      <th>2016</th>\n",
       "      <th>2017</th>\n",
       "      <th>2018</th>\n",
       "      <th>2019</th>\n",
       "      <th>2020</th>\n",
       "      <th>2021</th>\n",
       "      <th>2022</th>\n",
       "      <th>2023</th>\n",
       "      <th>Unnamed: 68</th>\n",
       "    </tr>\n",
       "  </thead>\n",
       "  <tbody>\n",
       "    <tr>\n",
       "      <th>0</th>\n",
       "      <td>Korea, Rep.</td>\n",
       "      <td>KOR</td>\n",
       "      <td>Armed forces personnel, total</td>\n",
       "      <td>MS.MIL.TOTL.P1</td>\n",
       "      <td>NaN</td>\n",
       "      <td>NaN</td>\n",
       "      <td>NaN</td>\n",
       "      <td>NaN</td>\n",
       "      <td>NaN</td>\n",
       "      <td>NaN</td>\n",
       "      <td>...</td>\n",
       "      <td>634500.0</td>\n",
       "      <td>634000.0</td>\n",
       "      <td>634000.0</td>\n",
       "      <td>608000.0</td>\n",
       "      <td>613000.0</td>\n",
       "      <td>569000.0</td>\n",
       "      <td>NaN</td>\n",
       "      <td>NaN</td>\n",
       "      <td>NaN</td>\n",
       "      <td>NaN</td>\n",
       "    </tr>\n",
       "  </tbody>\n",
       "</table>\n",
       "<p>1 rows × 69 columns</p>\n",
       "</div>"
      ],
      "text/plain": [
       "  Country Name Country Code                 Indicator Name  Indicator Code  \\\n",
       "0  Korea, Rep.          KOR  Armed forces personnel, total  MS.MIL.TOTL.P1   \n",
       "\n",
       "   1960  1961  1962  1963  1964  1965  ...      2015      2016      2017  \\\n",
       "0   NaN   NaN   NaN   NaN   NaN   NaN  ...  634500.0  634000.0  634000.0   \n",
       "\n",
       "       2018      2019      2020  2021  2022  2023  Unnamed: 68  \n",
       "0  608000.0  613000.0  569000.0   NaN   NaN   NaN          NaN  \n",
       "\n",
       "[1 rows x 69 columns]"
      ]
     },
     "execution_count": 4,
     "metadata": {},
     "output_type": "execute_result"
    }
   ],
   "source": [
    "df_s = df[df['Country Name'] == 'Korea, Rep.'].reset_index(drop = True)\n",
    "df_s"
   ]
  },
  {
   "cell_type": "code",
   "execution_count": 5,
   "id": "90fe99c7",
   "metadata": {
    "ExecuteTime": {
     "end_time": "2024-06-09T23:55:32.101335Z",
     "start_time": "2024-06-09T23:55:32.073409Z"
    }
   },
   "outputs": [
    {
     "data": {
      "text/html": [
       "<div>\n",
       "<style scoped>\n",
       "    .dataframe tbody tr th:only-of-type {\n",
       "        vertical-align: middle;\n",
       "    }\n",
       "\n",
       "    .dataframe tbody tr th {\n",
       "        vertical-align: top;\n",
       "    }\n",
       "\n",
       "    .dataframe thead th {\n",
       "        text-align: right;\n",
       "    }\n",
       "</style>\n",
       "<table border=\"1\" class=\"dataframe\">\n",
       "  <thead>\n",
       "    <tr style=\"text-align: right;\">\n",
       "      <th></th>\n",
       "      <th>Country Name</th>\n",
       "      <th>Country Code</th>\n",
       "      <th>Indicator Name</th>\n",
       "      <th>Indicator Code</th>\n",
       "      <th>year</th>\n",
       "      <th>count</th>\n",
       "    </tr>\n",
       "  </thead>\n",
       "  <tbody>\n",
       "    <tr>\n",
       "      <th>0</th>\n",
       "      <td>Korea, Rep.</td>\n",
       "      <td>KOR</td>\n",
       "      <td>Armed forces personnel, total</td>\n",
       "      <td>MS.MIL.TOTL.P1</td>\n",
       "      <td>1960</td>\n",
       "      <td>NaN</td>\n",
       "    </tr>\n",
       "    <tr>\n",
       "      <th>1</th>\n",
       "      <td>Korea, Rep.</td>\n",
       "      <td>KOR</td>\n",
       "      <td>Armed forces personnel, total</td>\n",
       "      <td>MS.MIL.TOTL.P1</td>\n",
       "      <td>1961</td>\n",
       "      <td>NaN</td>\n",
       "    </tr>\n",
       "    <tr>\n",
       "      <th>2</th>\n",
       "      <td>Korea, Rep.</td>\n",
       "      <td>KOR</td>\n",
       "      <td>Armed forces personnel, total</td>\n",
       "      <td>MS.MIL.TOTL.P1</td>\n",
       "      <td>1962</td>\n",
       "      <td>NaN</td>\n",
       "    </tr>\n",
       "    <tr>\n",
       "      <th>3</th>\n",
       "      <td>Korea, Rep.</td>\n",
       "      <td>KOR</td>\n",
       "      <td>Armed forces personnel, total</td>\n",
       "      <td>MS.MIL.TOTL.P1</td>\n",
       "      <td>1963</td>\n",
       "      <td>NaN</td>\n",
       "    </tr>\n",
       "    <tr>\n",
       "      <th>4</th>\n",
       "      <td>Korea, Rep.</td>\n",
       "      <td>KOR</td>\n",
       "      <td>Armed forces personnel, total</td>\n",
       "      <td>MS.MIL.TOTL.P1</td>\n",
       "      <td>1964</td>\n",
       "      <td>NaN</td>\n",
       "    </tr>\n",
       "    <tr>\n",
       "      <th>...</th>\n",
       "      <td>...</td>\n",
       "      <td>...</td>\n",
       "      <td>...</td>\n",
       "      <td>...</td>\n",
       "      <td>...</td>\n",
       "      <td>...</td>\n",
       "    </tr>\n",
       "    <tr>\n",
       "      <th>60</th>\n",
       "      <td>Korea, Rep.</td>\n",
       "      <td>KOR</td>\n",
       "      <td>Armed forces personnel, total</td>\n",
       "      <td>MS.MIL.TOTL.P1</td>\n",
       "      <td>2020</td>\n",
       "      <td>569000.0</td>\n",
       "    </tr>\n",
       "    <tr>\n",
       "      <th>61</th>\n",
       "      <td>Korea, Rep.</td>\n",
       "      <td>KOR</td>\n",
       "      <td>Armed forces personnel, total</td>\n",
       "      <td>MS.MIL.TOTL.P1</td>\n",
       "      <td>2021</td>\n",
       "      <td>NaN</td>\n",
       "    </tr>\n",
       "    <tr>\n",
       "      <th>62</th>\n",
       "      <td>Korea, Rep.</td>\n",
       "      <td>KOR</td>\n",
       "      <td>Armed forces personnel, total</td>\n",
       "      <td>MS.MIL.TOTL.P1</td>\n",
       "      <td>2022</td>\n",
       "      <td>NaN</td>\n",
       "    </tr>\n",
       "    <tr>\n",
       "      <th>63</th>\n",
       "      <td>Korea, Rep.</td>\n",
       "      <td>KOR</td>\n",
       "      <td>Armed forces personnel, total</td>\n",
       "      <td>MS.MIL.TOTL.P1</td>\n",
       "      <td>2023</td>\n",
       "      <td>NaN</td>\n",
       "    </tr>\n",
       "    <tr>\n",
       "      <th>64</th>\n",
       "      <td>Korea, Rep.</td>\n",
       "      <td>KOR</td>\n",
       "      <td>Armed forces personnel, total</td>\n",
       "      <td>MS.MIL.TOTL.P1</td>\n",
       "      <td>Unnamed: 68</td>\n",
       "      <td>NaN</td>\n",
       "    </tr>\n",
       "  </tbody>\n",
       "</table>\n",
       "<p>65 rows × 6 columns</p>\n",
       "</div>"
      ],
      "text/plain": [
       "   Country Name Country Code                 Indicator Name  Indicator Code  \\\n",
       "0   Korea, Rep.          KOR  Armed forces personnel, total  MS.MIL.TOTL.P1   \n",
       "1   Korea, Rep.          KOR  Armed forces personnel, total  MS.MIL.TOTL.P1   \n",
       "2   Korea, Rep.          KOR  Armed forces personnel, total  MS.MIL.TOTL.P1   \n",
       "3   Korea, Rep.          KOR  Armed forces personnel, total  MS.MIL.TOTL.P1   \n",
       "4   Korea, Rep.          KOR  Armed forces personnel, total  MS.MIL.TOTL.P1   \n",
       "..          ...          ...                            ...             ...   \n",
       "60  Korea, Rep.          KOR  Armed forces personnel, total  MS.MIL.TOTL.P1   \n",
       "61  Korea, Rep.          KOR  Armed forces personnel, total  MS.MIL.TOTL.P1   \n",
       "62  Korea, Rep.          KOR  Armed forces personnel, total  MS.MIL.TOTL.P1   \n",
       "63  Korea, Rep.          KOR  Armed forces personnel, total  MS.MIL.TOTL.P1   \n",
       "64  Korea, Rep.          KOR  Armed forces personnel, total  MS.MIL.TOTL.P1   \n",
       "\n",
       "           year     count  \n",
       "0          1960       NaN  \n",
       "1          1961       NaN  \n",
       "2          1962       NaN  \n",
       "3          1963       NaN  \n",
       "4          1964       NaN  \n",
       "..          ...       ...  \n",
       "60         2020  569000.0  \n",
       "61         2021       NaN  \n",
       "62         2022       NaN  \n",
       "63         2023       NaN  \n",
       "64  Unnamed: 68       NaN  \n",
       "\n",
       "[65 rows x 6 columns]"
      ]
     },
     "execution_count": 5,
     "metadata": {},
     "output_type": "execute_result"
    }
   ],
   "source": [
    "df_s_m = df_s.melt(id_vars = df_s.columns[:4], var_name = 'year', value_name = 'count')\n",
    "df_s_m"
   ]
  },
  {
   "cell_type": "code",
   "execution_count": 6,
   "id": "4952149c",
   "metadata": {
    "ExecuteTime": {
     "end_time": "2024-06-09T23:55:32.116294Z",
     "start_time": "2024-06-09T23:55:32.104330Z"
    }
   },
   "outputs": [],
   "source": [
    "df_s_m.loc[df_s_m['year'] == '2021', 'count'] = 520000\n",
    "df_s_m.loc[df_s_m['year'] == '2022', 'count'] = 510000\n",
    "df_s_m.loc[df_s_m['year'] == '2023', 'count'] = 480000\n",
    "df_s_m = df_s_m.dropna(axis = 0).reset_index(drop = True)\n",
    "df_s_m = df_s_m.astype({'year':'int32'})\n",
    "df_s_m = df_s_m.loc[df_s_m['year'] >= 1998, :].reset_index(drop = True)"
   ]
  },
  {
   "cell_type": "code",
   "execution_count": 7,
   "id": "00f46b32",
   "metadata": {
    "ExecuteTime": {
     "end_time": "2024-06-09T23:55:32.718505Z",
     "start_time": "2024-06-09T23:55:32.441863Z"
    }
   },
   "outputs": [
    {
     "data": {
      "image/png": "[encoded data removed]",
      "text/plain": [
       "<Figure size 1600x400 with 1 Axes>"
      ]
     },
     "metadata": {},
     "output_type": "display_data"
    }
   ],
   "source": [
    "plt.figure(figsize = (16, 4))\n",
    "sns.lineplot(x = df_s_m['year'], y = df_s_m['count'], color = colors[0], linewidth = 3)\n",
    "plt.title('연도별 병력 인원', fontsize = 20)\n",
    "plt.xlabel('연도')\n",
    "plt.ylabel('병력 인원(명)')\n",
    "plt.show()"
   ]
  },
  {
   "cell_type": "code",
   "execution_count": null,
   "id": "b696cbb7",
   "metadata": {},
   "outputs": [],
   "source": []
  },
  {
   "cell_type": "code",
   "execution_count": null,
   "id": "4d18fd05",
   "metadata": {},
   "outputs": [],
   "source": []
  }
 ],
 "metadata": {
  "kernelspec": {
   "display_name": "Gnan",
   "language": "python",
   "name": "gnan"
  },
  "language_info": {
   "codemirror_mode": {
    "name": "ipython",
    "version": 3
   },
   "file_extension": ".py",
   "mimetype": "text/x-python",
   "name": "python",
   "nbconvert_exporter": "python",
   "pygments_lexer": "ipython3",
   "version": "3.10.9"
  },
  "toc": {
   "base_numbering": 1,
   "nav_menu": {},
   "number_sections": true,
   "sideBar": true,
   "skip_h1_title": false,
   "title_cell": "Table of Contents",
   "title_sidebar": "Contents",
   "toc_cell": false,
   "toc_position": {},
   "toc_section_display": true,
   "toc_window_display": false
  }
 },
 "nbformat": 4,
 "nbformat_minor": 5
}
