{
 "cells": [
  {
   "cell_type": "code",
   "execution_count": 1,
   "id": "fded1c71",
   "metadata": {
    "ExecuteTime": {
     "end_time": "2024-06-10T00:00:23.651020Z",
     "start_time": "2024-06-10T00:00:21.835595Z"
    }
   },
   "outputs": [],
   "source": [
    "import os\n",
    "import pandas as pd\n",
    "import numpy as np\n",
    "import seaborn as sns\n",
    "import matplotlib.pyplot as plt\n",
    "from matplotlib.ticker import FuncFormatter\n",
    "\n",
    "sns.set_style('whitegrid')\n",
    "colors = sns.color_palette(\"pastel\")\n",
    "plt.rcParams['font.family'] = 'Malgun Gothic'\n",
    "plt.rcParams['axes.unicode_minus'] = False"
   ]
  },
  {
   "cell_type": "code",
   "execution_count": 2,
   "id": "a1e8a7be",
   "metadata": {
    "ExecuteTime": {
     "end_time": "2024-06-10T00:00:23.695901Z",
     "start_time": "2024-06-10T00:00:23.653015Z"
    }
   },
   "outputs": [
    {
     "data": {
      "text/html": [
       "<div>\n",
       "<style scoped>\n",
       "    .dataframe tbody tr th:only-of-type {\n",
       "        vertical-align: middle;\n",
       "    }\n",
       "\n",
       "    .dataframe tbody tr th {\n",
       "        vertical-align: top;\n",
       "    }\n",
       "\n",
       "    .dataframe thead th {\n",
       "        text-align: right;\n",
       "    }\n",
       "</style>\n",
       "<table border=\"1\" class=\"dataframe\">\n",
       "  <thead>\n",
       "    <tr style=\"text-align: right;\">\n",
       "      <th></th>\n",
       "      <th>연도</th>\n",
       "      <th>월</th>\n",
       "      <th>병장</th>\n",
       "      <th>상병</th>\n",
       "      <th>일병</th>\n",
       "      <th>이병</th>\n",
       "      <th>급식비</th>\n",
       "      <th>피복비</th>\n",
       "      <th>병장_총합</th>\n",
       "      <th>상병_총합</th>\n",
       "      <th>일병_총합</th>\n",
       "      <th>이병_총합</th>\n",
       "    </tr>\n",
       "  </thead>\n",
       "  <tbody>\n",
       "    <tr>\n",
       "      <th>0</th>\n",
       "      <td>2015</td>\n",
       "      <td>1</td>\n",
       "      <td>2056800</td>\n",
       "      <td>1857600</td>\n",
       "      <td>1680000</td>\n",
       "      <td>1552800</td>\n",
       "      <td>2505600</td>\n",
       "      <td>670800</td>\n",
       "      <td>5233200</td>\n",
       "      <td>5034000</td>\n",
       "      <td>4856400</td>\n",
       "      <td>4729200</td>\n",
       "    </tr>\n",
       "    <tr>\n",
       "      <th>1</th>\n",
       "      <td>2016</td>\n",
       "      <td>1</td>\n",
       "      <td>2365200</td>\n",
       "      <td>2136000</td>\n",
       "      <td>1932000</td>\n",
       "      <td>1785600</td>\n",
       "      <td>2555796</td>\n",
       "      <td>700992</td>\n",
       "      <td>5621988</td>\n",
       "      <td>5392788</td>\n",
       "      <td>5188788</td>\n",
       "      <td>5042388</td>\n",
       "    </tr>\n",
       "    <tr>\n",
       "      <th>2</th>\n",
       "      <td>2017</td>\n",
       "      <td>1</td>\n",
       "      <td>2592000</td>\n",
       "      <td>2340000</td>\n",
       "      <td>2116800</td>\n",
       "      <td>1956000</td>\n",
       "      <td>2553600</td>\n",
       "      <td>717600</td>\n",
       "      <td>5863200</td>\n",
       "      <td>5611200</td>\n",
       "      <td>5388000</td>\n",
       "      <td>5227200</td>\n",
       "    </tr>\n",
       "    <tr>\n",
       "      <th>3</th>\n",
       "      <td>2018</td>\n",
       "      <td>1</td>\n",
       "      <td>4868400</td>\n",
       "      <td>4394400</td>\n",
       "      <td>3975600</td>\n",
       "      <td>3673200</td>\n",
       "      <td>2731200</td>\n",
       "      <td>769200</td>\n",
       "      <td>8368800</td>\n",
       "      <td>7894800</td>\n",
       "      <td>7476000</td>\n",
       "      <td>7173600</td>\n",
       "    </tr>\n",
       "    <tr>\n",
       "      <th>4</th>\n",
       "      <td>2019</td>\n",
       "      <td>1</td>\n",
       "      <td>4868400</td>\n",
       "      <td>4394400</td>\n",
       "      <td>3975600</td>\n",
       "      <td>3673200</td>\n",
       "      <td>2784000</td>\n",
       "      <td>840000</td>\n",
       "      <td>8492400</td>\n",
       "      <td>8018400</td>\n",
       "      <td>7599600</td>\n",
       "      <td>7297200</td>\n",
       "    </tr>\n",
       "    <tr>\n",
       "      <th>5</th>\n",
       "      <td>2020</td>\n",
       "      <td>1</td>\n",
       "      <td>6490800</td>\n",
       "      <td>5858400</td>\n",
       "      <td>5300400</td>\n",
       "      <td>4897200</td>\n",
       "      <td>2946000</td>\n",
       "      <td>837000</td>\n",
       "      <td>10273800</td>\n",
       "      <td>9641400</td>\n",
       "      <td>9083400</td>\n",
       "      <td>8680200</td>\n",
       "    </tr>\n",
       "    <tr>\n",
       "      <th>6</th>\n",
       "      <td>2021</td>\n",
       "      <td>1</td>\n",
       "      <td>7302000</td>\n",
       "      <td>6590400</td>\n",
       "      <td>5962800</td>\n",
       "      <td>5509200</td>\n",
       "      <td>3046800</td>\n",
       "      <td>994296</td>\n",
       "      <td>11343096</td>\n",
       "      <td>10631496</td>\n",
       "      <td>10003896</td>\n",
       "      <td>9550296</td>\n",
       "    </tr>\n",
       "    <tr>\n",
       "      <th>7</th>\n",
       "      <td>2022</td>\n",
       "      <td>1</td>\n",
       "      <td>8113200</td>\n",
       "      <td>7322400</td>\n",
       "      <td>6625200</td>\n",
       "      <td>6121200</td>\n",
       "      <td>3776400</td>\n",
       "      <td>996300</td>\n",
       "      <td>12885900</td>\n",
       "      <td>12095100</td>\n",
       "      <td>11397900</td>\n",
       "      <td>10893900</td>\n",
       "    </tr>\n",
       "    <tr>\n",
       "      <th>8</th>\n",
       "      <td>2023</td>\n",
       "      <td>1</td>\n",
       "      <td>12000000</td>\n",
       "      <td>9600000</td>\n",
       "      <td>8160000</td>\n",
       "      <td>7200000</td>\n",
       "      <td>4328400</td>\n",
       "      <td>989700</td>\n",
       "      <td>17318100</td>\n",
       "      <td>14918100</td>\n",
       "      <td>13478100</td>\n",
       "      <td>12518100</td>\n",
       "    </tr>\n",
       "  </tbody>\n",
       "</table>\n",
       "</div>"
      ],
      "text/plain": [
       "     연도  월        병장       상병       일병       이병      급식비     피복비     병장_총합  \\\n",
       "0  2015  1   2056800  1857600  1680000  1552800  2505600  670800   5233200   \n",
       "1  2016  1   2365200  2136000  1932000  1785600  2555796  700992   5621988   \n",
       "2  2017  1   2592000  2340000  2116800  1956000  2553600  717600   5863200   \n",
       "3  2018  1   4868400  4394400  3975600  3673200  2731200  769200   8368800   \n",
       "4  2019  1   4868400  4394400  3975600  3673200  2784000  840000   8492400   \n",
       "5  2020  1   6490800  5858400  5300400  4897200  2946000  837000  10273800   \n",
       "6  2021  1   7302000  6590400  5962800  5509200  3046800  994296  11343096   \n",
       "7  2022  1   8113200  7322400  6625200  6121200  3776400  996300  12885900   \n",
       "8  2023  1  12000000  9600000  8160000  7200000  4328400  989700  17318100   \n",
       "\n",
       "      상병_총합     일병_총합     이병_총합  \n",
       "0   5034000   4856400   4729200  \n",
       "1   5392788   5188788   5042388  \n",
       "2   5611200   5388000   5227200  \n",
       "3   7894800   7476000   7173600  \n",
       "4   8018400   7599600   7297200  \n",
       "5   9641400   9083400   8680200  \n",
       "6  10631496  10003896   9550296  \n",
       "7  12095100  11397900  10893900  \n",
       "8  14918100  13478100  12518100  "
      ]
     },
     "execution_count": 2,
     "metadata": {},
     "output_type": "execute_result"
    }
   ],
   "source": [
    "df = pd.read_csv('Dataset/병사 봉급 정보.csv', encoding = 'CP949')\n",
    "\n",
    "df['연도'] = df['기준 시작년월'].astype(str).str[:4].astype(int)\n",
    "df['월'] = df['기준 시작년월'].astype(str).str[4:6].astype(int)\n",
    "\n",
    "df = df.drop(['행번호', '기준 시작년월', '기준 종료년월'], axis = 1)\n",
    "df = df[['연도', '월', '병장', '상병', '일병', '이병']]\n",
    "\n",
    "list_food = [2505.6, 2555.8, 2553.6, 2731.2, 2784.0, 2946.0, 3046.8, 3776.4, 4328.4]\n",
    "list_wear = [670.8, 701.0, 717.6, 769.2, 840.0, 837.0, 994.3, 996.3, 989.7]\n",
    "\n",
    "df = df.loc[df['연도'] >= 2015, :].reset_index(drop = True)\n",
    "\n",
    "arr_food = np.int32(np.array(list_food) * 1000 / 12)\n",
    "arr_wear = np.int32(np.array(list_wear) * 1000 / 12)\n",
    "\n",
    "df['급식비'] = arr_food\n",
    "df['피복비'] = arr_wear\n",
    "\n",
    "df.iloc[:, 2:] = df.iloc[:, 2:].mul(12)\n",
    "\n",
    "for i in range(4):\n",
    "    lev = df.columns[2:][i]\n",
    "    df[f'{lev}_총합'] = df[lev] + df['급식비'] + df['피복비']\n",
    "\n",
    "df"
   ]
  },
  {
   "cell_type": "code",
   "execution_count": 3,
   "id": "1417e861",
   "metadata": {
    "ExecuteTime": {
     "end_time": "2024-06-10T00:00:23.710990Z",
     "start_time": "2024-06-10T00:00:23.697896Z"
    }
   },
   "outputs": [
    {
     "data": {
      "text/plain": [
       "14174766.666666666"
      ]
     },
     "execution_count": 3,
     "metadata": {},
     "output_type": "execute_result"
    }
   ],
   "source": [
    "(2 * 17348100 + 6 * 14918100 + 6 * 13478100 + 4 * 12518100) / 18"
   ]
  },
  {
   "cell_type": "code",
   "execution_count": 4,
   "id": "a608dc7d",
   "metadata": {
    "ExecuteTime": {
     "end_time": "2024-06-10T00:00:24.100593Z",
     "start_time": "2024-06-10T00:00:23.712985Z"
    }
   },
   "outputs": [
    {
     "data": {
      "image/png": "[encoded data removed]",
      "text/plain": [
       "<Figure size 1600x400 with 1 Axes>"
      ]
     },
     "metadata": {},
     "output_type": "display_data"
    }
   ],
   "source": [
    "def y_format(y, pos):\n",
    "    return f'{int(y):,}'\n",
    "\n",
    "index = np.arange(len(df['연도']))\n",
    "bar_width = 0.2\n",
    "\n",
    "fig, ax = plt.subplots(figsize = (16, 4))\n",
    "for i in range(4):\n",
    "    lev = df.columns[::-1][:4][i]\n",
    "    plt.bar(index + i*bar_width, df[lev], width = bar_width, color = colors[3-i], label = lev[:2])\n",
    "\n",
    "ax.yaxis.set_major_formatter(FuncFormatter(y_format))\n",
    "plt.title('병사 1인당 인력 운영비', fontsize = 20)\n",
    "plt.xticks(np.arange(bar_width, len(df['연도']) + bar_width, 1), df['연도'])\n",
    "plt.xlabel('연도', size = 13)\n",
    "plt.ylabel('운영비', size = 13)\n",
    "plt.legend()\n",
    "plt.show()"
   ]
  },
  {
   "cell_type": "code",
   "execution_count": 108,
   "id": "59bb3e5f",
   "metadata": {
    "ExecuteTime": {
     "end_time": "2024-06-07T13:49:46.236211Z",
     "start_time": "2024-06-07T13:49:45.870374Z"
    }
   },
   "outputs": [
    {
     "data": {
      "image/png": "[encoded data removed]",
      "text/plain": [
       "<Figure size 640x480 with 1 Axes>"
      ]
     },
     "metadata": {},
     "output_type": "display_data"
    }
   ],
   "source": [
    "index = np.arange(len(df['연도']))\n",
    "bar_width = 0.2\n",
    "\n",
    "for i in range(4):\n",
    "    lev = df.columns[-4:][i]\n",
    "    plt.bar(index + i*bar_width, df[lev], width = bar_width, color = colors[i], label = lev[:2])\n",
    "    \n",
    "plt.xticks(np.arange(bar_width, len(df['연도']) + bar_width, 1), df['연도'])\n",
    "plt.xlabel('year', size = 13)\n",
    "plt.ylabel('money', size = 13)\n",
    "plt.legend()\n",
    "plt.show()"
   ]
  },
  {
   "cell_type": "code",
   "execution_count": 13,
   "id": "225d0f42",
   "metadata": {
    "ExecuteTime": {
     "end_time": "2024-06-10T00:05:25.635451Z",
     "start_time": "2024-06-10T00:05:25.613509Z"
    }
   },
   "outputs": [
    {
     "data": {
      "text/html": [
       "<div>\n",
       "<style scoped>\n",
       "    .dataframe tbody tr th:only-of-type {\n",
       "        vertical-align: middle;\n",
       "    }\n",
       "\n",
       "    .dataframe tbody tr th {\n",
       "        vertical-align: top;\n",
       "    }\n",
       "\n",
       "    .dataframe thead th {\n",
       "        text-align: right;\n",
       "    }\n",
       "</style>\n",
       "<table border=\"1\" class=\"dataframe\">\n",
       "  <thead>\n",
       "    <tr style=\"text-align: right;\">\n",
       "      <th></th>\n",
       "      <th>0</th>\n",
       "      <th>1</th>\n",
       "      <th>2</th>\n",
       "      <th>3</th>\n",
       "    </tr>\n",
       "  </thead>\n",
       "  <tbody>\n",
       "    <tr>\n",
       "      <th>계급</th>\n",
       "      <td>이병</td>\n",
       "      <td>일병</td>\n",
       "      <td>상병</td>\n",
       "      <td>병장</td>\n",
       "    </tr>\n",
       "    <tr>\n",
       "      <th>복무기간</th>\n",
       "      <td>2</td>\n",
       "      <td>6</td>\n",
       "      <td>6</td>\n",
       "      <td>4</td>\n",
       "    </tr>\n",
       "  </tbody>\n",
       "</table>\n",
       "</div>"
      ],
      "text/plain": [
       "       0   1   2   3\n",
       "계급    이병  일병  상병  병장\n",
       "복무기간   2   6   6   4"
      ]
     },
     "execution_count": 13,
     "metadata": {},
     "output_type": "execute_result"
    }
   ],
   "source": [
    "pd.DataFrame({'계급' : ['이병', '일병', '상병', '병장'],\n",
    "              '복무기간' : [2, 6, 6, 4]}).T"
   ]
  },
  {
   "cell_type": "code",
   "execution_count": null,
   "id": "a3aadc21",
   "metadata": {},
   "outputs": [],
   "source": []
  }
 ],
 "metadata": {
  "kernelspec": {
   "display_name": "Gnan",
   "language": "python",
   "name": "gnan"
  },
  "language_info": {
   "codemirror_mode": {
    "name": "ipython",
    "version": 3
   },
   "file_extension": ".py",
   "mimetype": "text/x-python",
   "name": "python",
   "nbconvert_exporter": "python",
   "pygments_lexer": "ipython3",
   "version": "3.10.9"
  },
  "toc": {
   "base_numbering": 1,
   "nav_menu": {},
   "number_sections": true,
   "sideBar": true,
   "skip_h1_title": false,
   "title_cell": "Table of Contents",
   "title_sidebar": "Contents",
   "toc_cell": false,
   "toc_position": {},
   "toc_section_display": true,
   "toc_window_display": false
  }
 },
 "nbformat": 4,
 "nbformat_minor": 5
}
